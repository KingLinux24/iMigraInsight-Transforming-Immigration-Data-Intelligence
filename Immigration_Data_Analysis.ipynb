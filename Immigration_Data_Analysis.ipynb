{
 "cells": [
  {
   "cell_type": "code",
   "execution_count": null,
   "id": "80318e57-206f-48b3-98fa-b455613bc1c8",
   "metadata": {},
   "outputs": [],
   "source": [
    "# iMigraInsight: Revolutionizing Immigration Data Intelligence\n",
    "\n",
    "## Introduction\n",
    "\n",
    "#Welcome to iMigraInsight, where we embark on a journey to revolutionize immigration data intelligence. \n",
    "#Our project is driven by the vision of a more efficient and compassionate approach to collecting immigration \n",
    "#data using advanced data science and artificial intelligence. With a focus on enhancing national security, \n",
    "#protecting human rights, and informing data-driven policy development, iMigraInsight aims to address the pressing \n",
    "#challenges of modern immigration. Join us as we navigate the complexities of immigration with innovation,\n",
    "#empathy, and a commitment to making a positive impact.\n"
   ]
  },
  {
   "cell_type": "code",
   "execution_count": null,
   "id": "29d407f1-b217-4695-be7a-e55d1e79d13b",
   "metadata": {},
   "outputs": [],
   "source": [
    "import pandas as pd\n",
    "import os\n",
    "import matplotlib.pyplot as plt\n",
    "from sklearn.model_selection import train_test_split\n",
    "from sklearn.ensemble import RandomForestClassifier\n",
    "from sklearn.metrics import accuracy_score, precision_score, recall_score, f1_score\n",
    "from sklearn.model_selection import cross_val_score, GridSearchCV\n",
    "import joblib\n",
    "import plotly.express as px\n",
    "import plotly.graph_objects as go\n"
   ]
  },
  {
   "cell_type": "code",
   "execution_count": null,
   "id": "98322ac3-8fc5-4762-a0f3-3e379d678dc2",
   "metadata": {},
   "outputs": [],
   "source": [
    "#Cell 2: Load Data from Excel Files"
   ]
  },
  {
   "cell_type": "code",
   "execution_count": null,
   "id": "35b5bbe6-fa6d-4e17-b80a-73499556894e",
   "metadata": {},
   "outputs": [],
   "source": [
    "import pandas as pd\n",
    "import os\n",
    "\n",
    "# Directory where your Excel files are located on Linux ONE\n",
    "directory = '/home/jovyan/shared'\n",
    "\n",
    "# Initialize an empty list to store your DataFrames\n",
    "dataframes = []\n",
    "\n",
    "# List all files in the directory\n",
    "file_list = os.listdir(directory)\n",
    "\n",
    "# Iterate through the list of files\n",
    "for file in file_list:\n",
    "    if file.endswith('.xls'):  # Assuming your files have the .xls extension\n",
    "        file_path = os.path.join(directory, file)\n",
    "        df = pd.read_excel(file_path)\n",
    "        dataframes.append(df)\n",
    "\n",
    "\n"
   ]
  },
  {
   "cell_type": "code",
   "execution_count": null,
   "id": "d1cdc2d6-3fa2-4f7d-b398-0448eeb252ef",
   "metadata": {},
   "outputs": [],
   "source": [
    "#Cell 3: Data Splitting"
   ]
  },
  {
   "cell_type": "code",
   "execution_count": null,
   "id": "12483113-9ab3-4f99-ad2b-ae1333679119",
   "metadata": {},
   "outputs": [],
   "source": [
    "\n",
    "# Load data from \"fy2021_table9d.xlsx\"\n",
    "import pandas as pd\n",
    "\n",
    "# Provide the file path to your Excel file\n",
    "file_path = '/home/jovyan/shared/fy2021_table9d.xlsx'\n",
    "\n",
    "# Load the data from the Excel file into a DataFrame\n",
    "data_additional = pd.read_excel(file_path)\n",
    "\n",
    "# Display the first few rows of the DataFrame to examine the data\n",
    "data_additional.head()\n",
    "\n",
    "\n",
    "import tabula\n",
    "\n",
    "# Read data from a PDF file (replace 'your_pdf_file.pdf' with the actual file path)\n",
    "tables = tabula.read_pdf('/home/jovyan/shared/2023_0703_plcy_fiscal_year_2022_border_security_metrics_report_2021_data.pdf', pages='all')\n",
    "\n",
    "# Convert each table into a DataFrame\n",
    "dataframes = [table for table in tables]\n"
   ]
  },
  {
   "cell_type": "code",
   "execution_count": null,
   "id": "6694284c-29e0-4b10-b726-59ec2a9868fb",
   "metadata": {},
   "outputs": [],
   "source": [
    "#Cell 4: Create and Train Model"
   ]
  },
  {
   "cell_type": "code",
   "execution_count": null,
   "id": "b3d9977a-fe2c-47c2-9220-1df4e22066fd",
   "metadata": {},
   "outputs": [],
   "source": [
    "# Create a RandomForestClassifier\n",
    "model = RandomForestClassifier(n_estimators=100, random_state=42)\n",
    "\n",
    "# Train the model on the training data\n",
    "model.fit(X_train, y_train)\n"
   ]
  },
  {
   "cell_type": "code",
   "execution_count": null,
   "id": "41acb44b-4d8c-41b1-80e5-1cd6883f8aa4",
   "metadata": {},
   "outputs": [],
   "source": [
    "#Cell 5: Model Evaluation"
   ]
  },
  {
   "cell_type": "code",
   "execution_count": null,
   "id": "e53613ac-fff3-4a5f-ab9c-2965000aedc9",
   "metadata": {},
   "outputs": [],
   "source": [
    "# Evaluate model accuracy\n",
    "y_pred = model.predict(X_test)\n",
    "accuracy = accuracy_score(y_test, y_pred)\n",
    "print(f\"Accuracy: {accuracy}\")\n",
    "\n"
   ]
  },
  {
   "cell_type": "code",
   "execution_count": null,
   "id": "b7862a32-9917-488c-8c46-51de43e96ca6",
   "metadata": {},
   "outputs": [],
   "source": [
    "#Cell 6: Hyperparameter Tuning"
   ]
  },
  {
   "cell_type": "code",
   "execution_count": null,
   "id": "c1189bfa-3aa6-4a1a-96e5-5bd3b4dba218",
   "metadata": {},
   "outputs": [],
   "source": [
    "# Perform hyperparameter tuning with GridSearchCV\n",
    "param_grid = {\n",
    "    'max_depth': [5, 10, 15],\n",
    "    'min_samples_split': [2, 5, 10],\n",
    "    'min_samples_leaf': [1, 2, 4]\n",
    "}\n",
    "grid_search = GridSearchCV(estimator=model, param_grid=param_grid, cv=5)\n",
    "grid_search.fit(X_train, y_train)\n",
    "best_params = grid_search.best_params_\n",
    "print(f\"Best Hyperparameters: {best_params}\")\n"
   ]
  },
  {
   "cell_type": "code",
   "execution_count": null,
   "id": "3d6b36cc-5933-4fef-bc60-246224906960",
   "metadata": {},
   "outputs": [],
   "source": [
    "Cell 7: Cross-Validation"
   ]
  },
  {
   "cell_type": "code",
   "execution_count": null,
   "id": "2bd484fd-ce76-41aa-9607-b0cd1564b55a",
   "metadata": {},
   "outputs": [],
   "source": [
    "# Use cross-validation to ensure model consistency\n",
    "cross_val_scores = cross_val_score(model, X, y, cv=5)\n",
    "mean_cv_score = cross_val_scores.mean()\n",
    "print(f\"Mean Cross-Validation Score: {mean_cv_score}\")\n"
   ]
  },
  {
   "cell_type": "code",
   "execution_count": null,
   "id": "9c280da0-3aaf-4674-88fb-384a7e041f13",
   "metadata": {},
   "outputs": [],
   "source": [
    "#Cell 8: Save the Model"
   ]
  },
  {
   "cell_type": "code",
   "execution_count": null,
   "id": "74303e87-7957-4b07-b8c5-3aad346ea5b6",
   "metadata": {},
   "outputs": [],
   "source": [
    "# Save the trained model to a file\n",
    "model_filename = 'immigration_model.pkl'\n",
    "joblib.dump(model, model_filename)\n"
   ]
  },
  {
   "cell_type": "code",
   "execution_count": null,
   "id": "9fe35cca-2f7a-4ef0-964e-95e0c4399686",
   "metadata": {},
   "outputs": [],
   "source": [
    "#Cell 9: Load and Use Model for Predictions"
   ]
  },
  {
   "cell_type": "code",
   "execution_count": null,
   "id": "ea0715f2-6cda-4599-8238-65a1c18f5237",
   "metadata": {},
   "outputs": [],
   "source": [
    "# Later, you can load the model for predictions\n",
    "loaded_model = joblib.load(model_filename)\n",
    "predictions = loaded_model.predict(X_new)\n"
   ]
  },
  {
   "cell_type": "code",
   "execution_count": null,
   "id": "f0cac7c6-2878-4a17-9ee9-536327004ada",
   "metadata": {},
   "outputs": [],
   "source": [
    "#Cell 10: Data Visualization - Bar Chart"
   ]
  },
  {
   "cell_type": "code",
   "execution_count": null,
   "id": "829c81f5-fb74-4c7e-a99f-f563207a1e30",
   "metadata": {},
   "outputs": [],
   "source": [
    "# Create an interactive bar chart for immigration by country\n",
    "fig = px.bar(data, x='Country', y='Immigration Count', title='Immigration by Country')\n",
    "fig.show()\n"
   ]
  },
  {
   "cell_type": "code",
   "execution_count": null,
   "id": "652c99a9-5288-441d-a911-8d7b9de46d71",
   "metadata": {},
   "outputs": [],
   "source": [
    "#Cell 11: Data Visualization - Geographic Heatmap"
   ]
  },
  {
   "cell_type": "code",
   "execution_count": null,
   "id": "70dc85ca-3708-48cf-8860-920cc2b3793e",
   "metadata": {},
   "outputs": [],
   "source": [
    "# Create an interactive geographic heatmap\n",
    "fig = go.Figure(data=go.Choropleth(\n",
    "    locations=data['Country'],  # Country codes or names\n",
    "    z=data['Immigration Count'],  # Values for heatmap\n",
    "    locationmode='country names',\n",
    "    colorscale='Viridis',  # Choose a colorscale\n",
    "    colorbar_title='Immigration Count',\n",
    "))\n",
    "\n",
    "fig.update_geos(projection_type=\"orthographic\")\n",
    "fig.update_layout(geo=dict(showcoastlines=True))\n",
    "\n",
    "fig.show()\n"
   ]
  }
 ],
 "metadata": {
  "kernelspec": {
   "display_name": "Python 3 (ipykernel)",
   "language": "python",
   "name": "python3"
  },
  "language_info": {
   "codemirror_mode": {
    "name": "ipython",
    "version": 3
   },
   "file_extension": ".py",
   "mimetype": "text/x-python",
   "name": "python",
   "nbconvert_exporter": "python",
   "pygments_lexer": "ipython3",
   "version": "3.10.6"
  }
 },
 "nbformat": 4,
 "nbformat_minor": 5
}
